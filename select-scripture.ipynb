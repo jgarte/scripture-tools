{
 "cells": [
  {
   "cell_type": "markdown",
   "metadata": {},
   "source": [
    "This code uses the SQLite version of the Standard Works of the Church of Jesus Christ of Latter-Day Saints, available [here](https://scriptures.nephi.org/)"
   ]
  },
  {
   "cell_type": "code",
   "execution_count": null,
   "metadata": {},
   "outputs": [],
   "source": [
    ";;;    select-scripture\n",
    ";;;    Get verses of scripture by reference.\n",
    ";;;    Copyright (C) 2020  Jesse Gibbons\n",
    ";;;\n",
    ";;;    This program is free software: you can redistribute it and/or modify\n",
    ";;;    it under the terms of the GNU General Public License as published by\n",
    ";;;    the Free Software Foundation, either version 3 of the License, or\n",
    ";;;    (at your option) any later version.\n",
    ";;;\n",
    ";;;    This program is distributed in the hope that it will be useful,\n",
    ";;;    but WITHOUT ANY WARRANTY; without even the implied warranty of\n",
    ";;;    MERCHANTABILITY or FITNESS FOR A PARTICULAR PURPOSE.  See the\n",
    ";;;    GNU General Public License for more details.\n",
    ";;;\n",
    ";;;    You should have received a copy of the GNU General Public License\n",
    ";;;    along with this program.  If not, see <https://www.gnu.org/licenses/>."
   ]
  },
  {
   "cell_type": "markdown",
   "metadata": {},
   "source": [
    "# Database Access Functions:"
   ]
  },
  {
   "cell_type": "code",
   "execution_count": null,
   "metadata": {},
   "outputs": [],
   "source": [
    "\n",
    "\n",
    "\n",
    "(use-modules (sqlite3)\n",
    "             (srfi srfi-1))\n",
    "\n",
    "(define database-file \"lds-scriptures-sqlite.db\")\n",
    "\n",
    "(define (run-simple-statement-string db str)\n",
    "  (let*\n",
    "    ((stmt (sqlite-prepare db str))\n",
    "     (results (sqlite-map identity stmt)))\n",
    "    (sqlite-finalize stmt)\n",
    "    results))\n",
    "\n",
    "(define (table-column-names db table-name)\n",
    "  (run-simple-statement-string db (string-append \"SELECT * FROM \" table-name)))\n",
    "\n",
    "(define (all-table-names db)\n",
    "  (run-simple-statement-string db \"SELECT name FROM sqlite_master\"))\n",
    "\n",
    "(define (book-names db)\n",
    "  (reduce-right append '()\n",
    "                (map vector->list\n",
    "                     (run-simple-statement-string db \"SELECT book_title, upper(book_title), lower(book_title),\n",
    "                                                  book_short_title, upper(book_short_title), lower(book_short_title),\n",
    "                                                  book_lds_url, upper(book_lds_url), lower(book_lds_url)\n",
    "                                                  FROM books\"))))"
   ]
  },
  {
   "cell_type": "markdown",
   "metadata": {},
   "source": [
    "# Initial Database Access"
   ]
  },
  {
   "cell_type": "code",
   "execution_count": null,
   "metadata": {},
   "outputs": [],
   "source": [
    "(define book-list\n",
    "  (let* ((db (sqlite-open database-file))\n",
    "        (result (cons 'or (delete-duplicates (book-names db)))))\n",
    "    (sqlite-close db)\n",
    "    result))"
   ]
  },
  {
   "cell_type": "markdown",
   "metadata": {},
   "source": [
    "# Parse Tree Generator functions"
   ]
  },
  {
   "cell_type": "code",
   "execution_count": null,
   "metadata": {},
   "outputs": [],
   "source": [
    "(use-modules (ice-9 peg))\n",
    "(use-modules (ice-9 pretty-print))\n",
    "\n",
    "(define-peg-string-patterns\n",
    " \"number <-- [0-9]+\n",
    "range <-- (number '-' number) / (number)\n",
    "ranges <- (range ',' (' ')? ranges) / range\n",
    "chapter-ref <-- number (':' ranges) ?\n",
    "chapters <-- (chapter-ref ';' (' ' ?) chapters) / chapter-ref\")\n",
    "\n",
    "(define book-title (compile (compile-peg-pattern book-list 'all)))\n",
    "\n",
    "(define-peg-string-patterns\n",
    " \"space <- ' '\n",
    "book-reference <-- book-title space chapters\n",
    "scripture-reference <-- (book-reference (space / '\\n') scripture-reference) / book-reference\")"
   ]
  },
  {
   "cell_type": "markdown",
   "metadata": {},
   "source": [
    "# Processing Functions\n",
    "## Number"
   ]
  },
  {
   "cell_type": "code",
   "execution_count": null,
   "metadata": {},
   "outputs": [],
   "source": [
    "(define (process-number number)\n",
    "  (string->number (cadr number)))"
   ]
  },
  {
   "cell_type": "markdown",
   "metadata": {},
   "source": [
    "## Verses"
   ]
  },
  {
   "cell_type": "code",
   "execution_count": null,
   "metadata": {},
   "outputs": [],
   "source": [
    "(define (process-range range)\n",
    "  (let* ((numbers (filter list? (keyword-flatten '(number) range)))\n",
    "        (parsed-numbers (map process-number numbers)))\n",
    "    (case (length parsed-numbers)\n",
    "          ((1) parsed-numbers)\n",
    "          ((2) (iota (- (1+ (second parsed-numbers)) (first parsed-numbers)) (first parsed-numbers)))\n",
    "          (else (raise 'parse-error)))))\n",
    "(define (process-ranges ranges)\n",
    "  (reduce-right append '() (map process-range ranges)))"
   ]
  },
  {
   "cell_type": "markdown",
   "metadata": {},
   "source": [
    "## Chapter"
   ]
  },
  {
   "cell_type": "code",
   "execution_count": null,
   "metadata": {},
   "outputs": [],
   "source": [
    "(define (chapter-ref-number chapter-ref)\n",
    "  (process-number (first (filter list? (keyword-flatten \n",
    "                                        '(number) chapter-ref)))))\n",
    "\n",
    "(define (chapter-verse-ranges chapter-ref)\n",
    "  (filter list? (keyword-flatten '(range) chapter-ref)))\n",
    "\n",
    "(define (entire-chapter? chapter-ref)\n",
    "    (null-list? (chapter-verse-ranges chapter-ref)))\n",
    "\n",
    "(define (process-chapter-ref chapter-ref)\n",
    "  (let* ((whole-chapter? (entire-chapter? chapter-ref))\n",
    "         (chapter-number (chapter-ref-number chapter-ref)))\n",
    "    (if whole-chapter? (list whole-chapter? chapter-number)\n",
    "        (list whole-chapter? chapter-number\n",
    "              (process-ranges (chapter-verse-ranges chapter-ref))))))"
   ]
  },
  {
   "cell_type": "markdown",
   "metadata": {},
   "source": [
    "## Book"
   ]
  },
  {
   "cell_type": "code",
   "execution_count": null,
   "metadata": {},
   "outputs": [],
   "source": [
    "(define (book-ref-book book-reference)\n",
    "  (string-trim-both (first (filter string? book-reference))))\n",
    "(define (book-ref-chapters book-ref)\n",
    "  (filter list? (keyword-flatten '(chapter-ref) book-ref)))\n",
    "\n",
    "(define (process-book-ref book-ref)\n",
    "  (let ((book-name (book-ref-book book-ref))\n",
    "        (chapters (book-ref-chapters book-ref)))\n",
    "    (cons book-name (map (lambda (chapter-tree)\n",
    "                           (process-chapter-ref chapter-tree))\n",
    "         chapters))))\n",
    "\n",
    "(define (clean-reference-tree peg)\n",
    "  (filter list? (keyword-flatten '(book-reference) (peg:tree peg))))\n",
    "\n",
    "(define (process-reference-tree reference-tree)\n",
    "  (map process-book-ref reference-tree))"
   ]
  },
  {
   "cell_type": "markdown",
   "metadata": {},
   "source": [
    "## Lookup"
   ]
  },
  {
   "cell_type": "code",
   "execution_count": null,
   "metadata": {},
   "outputs": [],
   "source": [
    "(define select-verses-string \"SELECT scripture_text FROM verses\n",
    "WHERE verse_number = :verse_number\n",
    "AND chapter_id IN\n",
    "(SELECT id FROM chapters\n",
    "WHERE chapter_number = :chapter_number\n",
    "AND book_id IN \n",
    "(SELECT id FROM books\n",
    "WHERE book_title LIKE :book_title\n",
    "OR book_short_title LIKE :book_title\n",
    "OR book_lds_url LIKE :book_title))\")\n",
    "(define select-chapter-string \"SELECT scripture_text FROM verses\n",
    "WHERE chapter_id IN\n",
    "(SELECT id FROM chapters\n",
    "WHERE chapter_number = :chapter_number\n",
    "AND book_id IN \n",
    "(SELECT id FROM books\n",
    "WHERE book_title LIKE :book_title\n",
    "OR book_short_title LIKE :book_title\n",
    "OR book_lds_url LIKE :book_title))\")\n",
    "(define (collect-verses stmt)\n",
    "  (let ((result\n",
    "         (sqlite-map\n",
    "          (lambda (row)\n",
    "            (vector-ref row 0))\n",
    "          stmt)))\n",
    "    (sqlite-reset stmt)\n",
    "    result))\n",
    "\n",
    "\n",
    "(define (lookup-references processed-refs)\n",
    "  (let* ((db (sqlite-open database-file))\n",
    "         (select-verses-stmt\n",
    "           (sqlite-prepare db select-verses-string))\n",
    "         (select-chapter-stmt\n",
    "           (sqlite-prepare db select-chapter-string))\n",
    "         (result\n",
    "           (map (lambda (ref)\n",
    "                  (let ((book-title (first ref)))\n",
    "                    (sqlite-bind\n",
    "                      select-verses-stmt\n",
    "                      \":book_title\"\n",
    "                      (first ref))\n",
    "                    (sqlite-bind\n",
    "                      select-chapter-stmt\n",
    "                      \":book_title\"\n",
    "                      (first ref))\n",
    "                    (reduce-right\n",
    "                      append\n",
    "                      '()\n",
    "                      (map (lambda (selection)\n",
    "                             (if (first selection)\n",
    "                               (let ((stmt select-chapter-stmt)\n",
    "                                     (chapter-number (second selection)))\n",
    "                                 (sqlite-bind\n",
    "                                   stmt\n",
    "                                   \":chapter_number\"\n",
    "                                   chapter-number)\n",
    "                                 (collect-verses stmt))\n",
    "                               (let ((stmt select-verses-stmt)\n",
    "                                     (chapter-number (second selection)))\n",
    "                                 (sqlite-bind\n",
    "                                   stmt\n",
    "                                   \":chapter_number\"\n",
    "                                   chapter-number)\n",
    "                                       (reduce-right append '() (map (lambda (verse)\n",
    "                                        (sqlite-bind\n",
    "                                          stmt\n",
    "                                          \":verse_number\"\n",
    "                                          verse)\n",
    "                                        (collect-verses stmt))\n",
    "                                      (third selection))))))\n",
    "                           (cdr ref)))))\n",
    "                processed-refs)))\n",
    "    (sqlite-finalize select-verses-stmt)\n",
    "    (sqlite-finalize select-chapter-stmt)\n",
    "    (sqlite-close db)\n",
    "    (reduce-right append '() result)))\n",
    "\n",
    "(define (lookup ref-string)\n",
    "  (lookup-references\n",
    "   (process-reference-tree\n",
    "    (clean-reference-tree\n",
    "     (match-pattern scripture-reference ref-string)))))"
   ]
  },
  {
   "cell_type": "code",
   "execution_count": null,
   "metadata": {},
   "outputs": [],
   "source": [
    "(display (let ((reference (apply string-append (map (lambda (str) (string-append str \" \")) (cdr (command-line))))))\n",
    "   (reduce-right string-append (string-append reference \":\") (lookup reference))))"
   ]
  }
 ],
 "metadata": {
  "kernelspec": {
   "display_name": "Guile",
   "language": "scheme",
   "name": "guile"
  },
  "language_info": {
   "codemirror_mode": "scheme",
   "file_extension": ".scm",
   "mimetype": "application/x-scheme",
   "name": "guile",
   "pygments_lexer": "scheme",
   "version": "2.0.0"
  }
 },
 "nbformat": 4,
 "nbformat_minor": 2
}
